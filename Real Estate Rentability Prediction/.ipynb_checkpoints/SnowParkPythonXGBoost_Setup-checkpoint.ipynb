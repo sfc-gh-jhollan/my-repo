{
 "cells": [
  {
   "cell_type": "markdown",
   "id": "68744f63-fcc9-4759-9996-f7768fa62305",
   "metadata": {},
   "source": [
    "# Realestate Rental ROI Prediction - Loading Dataset using Snowpark Python\n"
   ]
  },
  {
   "cell_type": "markdown",
   "id": "3baa542d-92f7-4a79-a8ea-be189bda306a",
   "metadata": {},
   "source": [
    "## Loading Real Estates Ads into Snowflake\n",
    "\n",
    "### Import the dependencies and connect to Snowflake"
   ]
  },
  {
   "cell_type": "code",
   "execution_count": null,
   "id": "731d3ad3-48ce-498a-83e4-9efb780e5a46",
   "metadata": {},
   "outputs": [],
   "source": [
    "# Snowpark\n",
    "from snowflake.snowpark import Session\n",
    "from snowflake.snowpark.types import *\n",
    "from snowflake.snowpark.functions import *\n",
    "\n",
    "# Print the version of Snowpark we are using\n",
    "from importlib.metadata import version\n",
    "version('snowflake_snowpark_python')"
   ]
  },
  {
   "cell_type": "code",
   "execution_count": null,
   "id": "eaa30546-cda7-4528-8690-82a1897ec79e",
   "metadata": {},
   "outputs": [],
   "source": [
    "# Other\n",
    "import json"
   ]
  },
  {
   "cell_type": "markdown",
   "id": "787c6f32-d170-48b4-bee1-be476d1d5db1",
   "metadata": {},
   "source": [
    "**Before connecting make sure you have updated creds.json with information for your Snowflake account**"
   ]
  },
  {
   "cell_type": "code",
   "execution_count": null,
   "id": "c140283a-60eb-4215-945b-50ffb8ba7b92",
   "metadata": {},
   "outputs": [],
   "source": [
    "with open('creds.json') as f:\n",
    "    connection_parameters = json.load(f)"
   ]
  },
  {
   "cell_type": "code",
   "execution_count": null,
   "id": "04cbfa0d-8505-46a4-b4ab-602814c12d53",
   "metadata": {},
   "outputs": [],
   "source": [
    "session = Session.builder.configs(connection_parameters).create()"
   ]
  },
  {
   "cell_type": "markdown",
   "id": "f77f0055-4a93-4baa-873a-edf5f0135f9f",
   "metadata": {},
   "source": [
    "The **get_** functions can be use to get information about the current database, schema, role etc"
   ]
  },
  {
   "cell_type": "code",
   "execution_count": null,
   "id": "6f6005c7-cd91-49c9-8324-c3230a867140",
   "metadata": {},
   "outputs": [],
   "source": [
    "print(f\"Current schema: {session.get_fully_qualified_current_schema()}, current role: {session.get_current_role()}, current warehouse:  {session.get_current_warehouse()}\")"
   ]
  },
  {
   "cell_type": "markdown",
   "id": "04cdd2e3-27bb-4a8a-9bdd-011759cc7882",
   "metadata": {},
   "source": [
    "### Define Staging Area and the Schema for the transaction table\n",
    "\n",
    "Using SQL we can create a internal stage and then use the **put** function to uplad the **realestatesads.csv.gz** file to it."
   ]
  },
  {
   "cell_type": "code",
   "execution_count": null,
   "id": "998ff299-6597-4a9d-a034-09c57472a478",
   "metadata": {},
   "outputs": [],
   "source": [
    "stage_name = \"REAL_ESTATE_DATA\"\n",
    "# Create a internal staging area for uploading the source file\n",
    "session.sql(f\"CREATE or replace STAGE {stage_name}\").collect()\n",
    "\n",
    "# Upload the source file to the stage\n",
    "putResult = session.file.put(\"data/realestatesads.csv.gz\", f\"@{stage_name}\", auto_compress=False)\n",
    "\n",
    "putResult"
   ]
  },
  {
   "cell_type": "markdown",
   "id": "87476649-9e5b-4907-be64-2dcaea28a6b8",
   "metadata": {},
   "source": [
    "Define the schma for our **ADS** table"
   ]
  },
  {
   "cell_type": "code",
   "execution_count": null,
   "id": "a372c7ee-62e1-4b77-a923-efb4d840d512",
   "metadata": {},
   "outputs": [],
   "source": [
    "# Define the schema for the ADS table\n",
    "df_ADS_Schema = StructType(\n",
    "    [\n",
    "        StructField(\"ADS_ID\", IntegerType()),                          \n",
    "        StructField(\"ADS_CATEGORY_NAME\", StringType()),              \n",
    "        StructField(\"ADS_FIRST_PUBLICATION_DATE\", TimestampType()),  \n",
    "        StructField(\"ADS_INDEX_DATE\", TimestampType()),              \n",
    "        StructField(\"ADS_SUBJECT\", StringType()),                    \n",
    "        StructField(\"ADS_PRICE\", FloatType()),                       \n",
    "        StructField(\"ADS_GEO_CITY\", StringType()),                   \n",
    "        StructField(\"ADS_GEO_ZIPCODE\", StringType()),                \n",
    "        StructField(\"ADS_GEO_LAT\", FloatType()),                     \n",
    "        StructField(\"ADS_GEO_LNG\", FloatType()),                     \n",
    "        StructField(\"ADS_OPT_URGENT\", BooleanType()),                \n",
    "        StructField(\"ADS_OWNER_TYPE\", StringType()),                \n",
    "        StructField(\"ADS_ATTR_REAL_ESTATE_TYPE\", StringType()),     \n",
    "        StructField(\"ADS_ATTR_ROOMS\", IntegerType()),                  \n",
    "        StructField(\"ADS_ATTR_SQUARE\", IntegerType()),                 \n",
    "        StructField(\"ADS_ATTR_GES\", StringType()),                   \n",
    "        StructField(\"ADS_ATTR_ENERGY_RATE\", StringType()),           \n",
    "        StructField(\"ADS_ATTR_FAI_INCLUDED\", StringType()),          \n",
    "        StructField(\"ADS_ATTR_CHARGES_INCLUDED\", StringType()),      \n",
    "        StructField(\"ADS_ATTR_FURNISHED\", StringType()),             \n",
    "        StructField(\"ADS_CODEINSEE\", StringType())               \n",
    "    ]\n",
    ")\n",
    "\n"
   ]
  },
  {
   "cell_type": "markdown",
   "id": "a7ae5a4d-9058-4428-aa27-328dfbf2bd68",
   "metadata": {},
   "source": [
    "Load the **realestatesads.csv.gz** to a DataFrame reader and save into a table"
   ]
  },
  {
   "cell_type": "code",
   "execution_count": null,
   "id": "d2a1dade-44be-497a-82e7-ace3c2462966",
   "metadata": {},
   "outputs": [],
   "source": [
    "# Crete a reader\n",
    "df_Reader = session.read.schema(df_ADS_Schema)\n",
    "\n",
    "# Get the data into the data frame\n",
    "df_ADS = df_Reader.csv(f\"@{stage_name}/realestatesads.csv.gz\")"
   ]
  },
  {
   "cell_type": "code",
   "execution_count": null,
   "id": "358c8a6f-4e05-4a82-bde5-3695c701f8af",
   "metadata": {},
   "outputs": [],
   "source": [
    "# Write the dataframe in a table\n",
    "ret = df_ADS.write.mode(\"overwrite\").saveAsTable(\"ADS\")\n",
    "ret\n"
   ]
  },
  {
   "cell_type": "markdown",
   "id": "13cb8693",
   "metadata": {},
   "source": [
    "Chek the result"
   ]
  },
  {
   "cell_type": "code",
   "execution_count": null,
   "id": "a3e3ed5f",
   "metadata": {},
   "outputs": [],
   "source": [
    "import pandas as pd\n",
    "ADS_df_Raw = session.table(\"ADS\").filter(col(\"ADS_CATEGORY_NAME\") ==  \"Locations\" )\n",
    "pd.DataFrame(ADS_df_Raw.limit(10).collect())"
   ]
  }
 ],
 "metadata": {
  "kernelspec": {
   "display_name": "Python 3 (ipykernel)",
   "language": "python",
   "name": "python3"
  },
  "language_info": {
   "codemirror_mode": {
    "name": "ipython",
    "version": 3
   },
   "file_extension": ".py",
   "mimetype": "text/x-python",
   "name": "python",
   "nbconvert_exporter": "python",
   "pygments_lexer": "ipython3",
   "version": "3.8.12"
  }
 },
 "nbformat": 4,
 "nbformat_minor": 5
}
