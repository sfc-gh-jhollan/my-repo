{
 "cells": [
  {
   "cell_type": "markdown",
   "id": "42ae31ab",
   "metadata": {},
   "source": [
    "#  Credit Scoring with Snowpark for Python Set-up Notebook\n",
    "Author: Zohar Nissare-Houssen\n",
    "\n",
    "## 1. Snowflake Trial Account\n",
    "\n",
    "The prerequisite is to have a Snowflake account. If you do not have a Snowflake account, you can sign-up for a free 30 day [Snowflake trial](https://signup.snowflake.com/).\n",
    "\n",
    "After signing-up for the trial, please bookmark the URL of the Snowflake account, and save your credentials as they will be needed in this lab.\n",
    "\n",
    "\n",
    "This version requires Snowpark **0.4.0** or higher\n",
    "\n",
    "## 2. Python Libraries\n",
    "\n",
    "The following libraries are needed to run this demo. In this section, add any python library missing in your environment."
   ]
  },
  {
   "cell_type": "code",
   "execution_count": null,
   "id": "36b6734c",
   "metadata": {},
   "outputs": [],
   "source": [
    "pip install scikit-plot"
   ]
  },
  {
   "cell_type": "code",
   "execution_count": null,
   "id": "3a77c0fd",
   "metadata": {},
   "outputs": [],
   "source": [
    "pip install pyarrow==6.0.0"
   ]
  },
  {
   "cell_type": "code",
   "execution_count": null,
   "id": "7446b7a8",
   "metadata": {},
   "outputs": [],
   "source": [
    "pip install seaborn"
   ]
  },
  {
   "cell_type": "code",
   "execution_count": null,
   "id": "3b78d37d",
   "metadata": {},
   "outputs": [],
   "source": [
    "pip install matplotlib"
   ]
  },
  {
   "cell_type": "markdown",
   "id": "9e2e0410",
   "metadata": {},
   "source": [
    "## 3. File Download\n",
    "\n",
    "### 3.1 The Dataset"
   ]
  },
  {
   "cell_type": "code",
   "execution_count": null,
   "id": "55e7d5c2",
   "metadata": {},
   "outputs": [],
   "source": [
    "! curl -O https://raw.githubusercontent.com/zoharsan/snowpark_credit_score/main/credit_files.csv"
   ]
  },
  {
   "cell_type": "code",
   "execution_count": null,
   "id": "c206e595",
   "metadata": {},
   "outputs": [],
   "source": [
    "! curl -O https://raw.githubusercontent.com/zoharsan/snowpark_credit_score/main/credit_request.csv"
   ]
  },
  {
   "cell_type": "markdown",
   "id": "9669ec58",
   "metadata": {},
   "source": [
    "### 3.2 The creds.json credential file\n",
    "\n",
    "The file below needs to be edited with credentials of your Snowflake account and saved. It will be used to connect to Snowflake on the main Notebook:\n",
    "\n",
    "\n",
    "```\n",
    "{\n",
    "  \"account\": \"<account-name>\",\n",
    "  \"user\": \"<user>\",\n",
    "  \"password\": \"<password>\",\n",
    "  \"warehouse\": \"<warehouse-name>\",\n",
    "  \"database\": \"CREDIT_BANK\",\n",
    "  \"schema\": \"PUBLIC\"\n",
    "}\n",
    "```   "
   ]
  },
  {
   "cell_type": "code",
   "execution_count": 1,
   "id": "2d216cfc",
   "metadata": {},
   "outputs": [
    {
     "name": "stdout",
     "output_type": "stream",
     "text": [
      "  % Total    % Received % Xferd  Average Speed   Time    Time     Time  Current\n",
      "                                 Dload  Upload   Total   Spent    Left  Speed\n",
      "100   146  100   146    0     0    618      0 --:--:-- --:--:-- --:--:--   616\n"
     ]
    }
   ],
   "source": [
    "! curl -O https://github.com/zoharsan/snowpark_credit_score/raw/main/creds.json"
   ]
  },
  {
   "cell_type": "markdown",
   "id": "a6539fca",
   "metadata": {},
   "source": [
    "## 4. The Database\n",
    "\n",
    "In the section below, please fill-up the different parameters to connect to your Snowflake Environment in the cell below."
   ]
  },
  {
   "cell_type": "code",
   "execution_count": null,
   "id": "4b3e2630",
   "metadata": {},
   "outputs": [],
   "source": [
    "from snowflake.snowpark import *\n",
    "from snowflake.snowpark import version\n",
    "from snowflake.snowpark.functions import *\n",
    "\n",
    "import pandas as pd\n",
    "connection_parameters = {\n",
    "    \"user\": \"<user_name>\",\n",
    "    \"password\": \"<password>\",\n",
    "    \"account\": \"<account_name>\",\n",
    "    \"warehouse\": \"<warehouse_name>\",\n",
    "}\n",
    "\n",
    "session = Session.builder.configs(connection_parameters).create()\n",
    "\n",
    "session.sql(\"create or replace database credit_bank\").collect()\n",
    "session.sql(\"use schema credit_bank.public\").collect()\n",
    "print(session.sql(\"select current_warehouse(), current_database(), current_schema(), current_user(), current_role()\").collect())"
   ]
  },
  {
   "cell_type": "markdown",
   "id": "cddf3c4a",
   "metadata": {},
   "source": [
    "## 5. The Tables\n",
    "\n",
    "There are 2 tables associated with this demo:\n",
    "\n",
    "* CREDIT_FILES: This table contains currently the credit on files along with the credit standing whether the loan is being repaid or if there are actual issues with reimbursing the credit. This dataset is going to be used for historical analysis and build a machine learning model to score new applications.\n",
    "\n",
    "* CREDIT_REQUESTS: This table contains the new credit requests that the bank needs to provide approval on based on the ML algorithm.\n",
    "\n",
    "\n",
    "### 5.1 CREDIT_FILES Table\n",
    "\n"
   ]
  },
  {
   "cell_type": "markdown",
   "id": "87ac1fb6",
   "metadata": {},
   "source": [
    "After check running the command below, log into your Snowflake environment and make sure the table was created. It should have 2.9K rows. DO NOT RUN THIS TWICE. Otherwise, it will append the rows twice making the ML model appear overfitting. If you need to rerun it, drop the table first (from the snowflake console or here following the syntax above eg ```session.sql(\"drop table CREDIT_FILES\").collect()```"
   ]
  },
  {
   "cell_type": "code",
   "execution_count": null,
   "id": "90375742",
   "metadata": {},
   "outputs": [],
   "source": [
    "credit_files = pd.read_csv('credit_files.csv')\n",
    "session.write_pandas(credit_files,\"CREDIT_FILES\",auto_create_table='True')"
   ]
  },
  {
   "cell_type": "code",
   "execution_count": null,
   "id": "0976adbd",
   "metadata": {},
   "outputs": [],
   "source": [
    "credit_df = session.table(\"CREDIT_FILES\")\n",
    "credit_df.schema"
   ]
  },
  {
   "cell_type": "code",
   "execution_count": null,
   "id": "e52c7b64",
   "metadata": {},
   "outputs": [],
   "source": [
    "credit_df.toPandas().head()"
   ]
  },
  {
   "cell_type": "code",
   "execution_count": null,
   "id": "c550638a",
   "metadata": {},
   "outputs": [],
   "source": [
    "credit_df.toPandas().info()"
   ]
  },
  {
   "cell_type": "markdown",
   "id": "61582b2b",
   "metadata": {},
   "source": [
    "### 5.2 CREDIT_REQUEST Table"
   ]
  },
  {
   "cell_type": "markdown",
   "id": "91f6e37f",
   "metadata": {},
   "source": [
    "After check running the command below, log into your Snowflake environment and make sure the table was created. It should have 60 rows. DO NOT RUN THIS TWICE. Otherwise, it will append the rows twice If you need to rerun it, drop the table first (from the snowflake console or here following the syntax above eg ```session.sql(\"drop table CREDIT_REQUESTS\").collect()```"
   ]
  },
  {
   "cell_type": "code",
   "execution_count": null,
   "id": "752f337f",
   "metadata": {},
   "outputs": [],
   "source": [
    "credit_requests = pd.read_csv('credit_request.csv')\n",
    "session.write_pandas(credit_requests,\"CREDIT_REQUESTS\",auto_create_table='True')"
   ]
  },
  {
   "cell_type": "code",
   "execution_count": null,
   "id": "c8fd2b53",
   "metadata": {},
   "outputs": [],
   "source": [
    "credit_req_df = session.table(\"CREDIT_REQUESTS\")\n",
    "credit_req_df.schema"
   ]
  },
  {
   "cell_type": "code",
   "execution_count": null,
   "id": "0c615429",
   "metadata": {},
   "outputs": [],
   "source": [
    "credit_req_df.toPandas().head()"
   ]
  },
  {
   "cell_type": "code",
   "execution_count": null,
   "id": "855cbc08",
   "metadata": {},
   "outputs": [],
   "source": [
    "credit_req_df.toPandas().info()"
   ]
  },
  {
   "cell_type": "code",
   "execution_count": null,
   "id": "bba75069",
   "metadata": {},
   "outputs": [],
   "source": []
  }
 ],
 "metadata": {
  "kernelspec": {
   "display_name": "pysnowpark",
   "language": "python",
   "name": "pysnowpark"
  },
  "language_info": {
   "codemirror_mode": {
    "name": "ipython",
    "version": 3
   },
   "file_extension": ".py",
   "mimetype": "text/x-python",
   "name": "python",
   "nbconvert_exporter": "python",
   "pygments_lexer": "ipython3",
   "version": "3.8.12"
  }
 },
 "nbformat": 4,
 "nbformat_minor": 5
}
