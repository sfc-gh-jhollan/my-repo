{
 "cells": [
  {
   "cell_type": "markdown",
   "id": "9f57e11c",
   "metadata": {},
   "source": [
    "# Linear Regression\n",
    "\n",
    "\n",
    "An ecommerce retailer is looking to use machine learning to understand its customer's online engagement with its digital outlets i.e website and app. It is trying to decide whether to focus its efforts on the mobile app experience or website. We will use Linear Regression model to see which user acitivity has the biggest impact on their likelyhood of spending more money.\n",
    "\n",
    "#### Variables of interest:\n",
    "Avg. Session Length: Average session of in-store style advice sessions.<br>\n",
    "Time on App: Average time spent on App in minutes <br>\n",
    "Time on Website: Average time spent on Website in minutes <br>\n",
    "Length of Membership: How many years the customer has been a member <br>"
   ]
  },
  {
   "cell_type": "markdown",
   "id": "c9bb1a9b",
   "metadata": {},
   "source": [
    "### Importing necesaary packages (including Snowpark)\n",
    "If any of the packages do not exist in your Python environment you can install them using conda. Here is an example of installing seaborn visualization package\n",
    "\n",
    "*import sys <br>\n",
    "!conda install --yes --prefix {sys.prefix} seaborn*"
   ]
  },
  {
   "cell_type": "code",
   "execution_count": 67,
   "id": "01f62253",
   "metadata": {},
   "outputs": [],
   "source": [
    "from snowflake.snowpark.session import Session\n",
    "from snowflake.snowpark import functions as F\n",
    "from snowflake.snowpark.types import *\n",
    "from snowflake.snowpark.version import VERSION\n",
    "from snowflake.snowpark.functions import pandas_udf\n",
    "import pandas as pd\n",
    "from sklearn import linear_model\n",
    "import matplotlib.pyplot as plt\n",
    "from snowflake.snowpark.functions import udf\n",
    "%matplotlib inline\n",
    "import datetime as dt\n",
    "import numpy as np\n",
    "import seaborn as sns"
   ]
  },
  {
   "cell_type": "markdown",
   "id": "38042ae0",
   "metadata": {},
   "source": [
    "Let us confirm our Snowflake enviornment"
   ]
  },
  {
   "cell_type": "code",
   "execution_count": 68,
   "id": "5e64c81a",
   "metadata": {},
   "outputs": [],
   "source": [
    "from snowflake.snowpark import Session\n",
    "import json\n",
    "\n",
    "with open('creds.json') as f:\n",
    "    connection_parameters = json.load(f)    \n",
    "session = Session.builder.configs(connection_parameters).create()"
   ]
  },
  {
   "cell_type": "code",
   "execution_count": 69,
   "id": "5295c5c4",
   "metadata": {},
   "outputs": [
    {
     "name": "stdout",
     "output_type": "stream",
     "text": [
      "Database                    : \"PYTHON_TESTING\"\n",
      "Schema                      : \"PUBLIC\"\n",
      "Warehouse                   : \"TINY_WAREHOUSE\"\n",
      "Role                        : \"ACCOUNTADMIN\"\n",
      "Snowpark for Python version : 0.6.0\n"
     ]
    }
   ],
   "source": [
    "snowpark_version = VERSION\n",
    "print('Database                    : {}'.format(session.get_current_database()))\n",
    "print('Schema                      : {}'.format(session.get_current_schema()))\n",
    "print('Warehouse                   : {}'.format(session.get_current_warehouse()))\n",
    "print('Role                        : {}'.format(session.get_current_role()))\n",
    "print('Snowpark for Python version : {}.{}.{}'.format(snowpark_version[0],snowpark_version[1],snowpark_version[2]))"
   ]
  },
  {
   "cell_type": "markdown",
   "id": "abdc3c61",
   "metadata": {},
   "source": [
    "### Loading data from a local file into Pandas dataframe and then loading the data in Snowflake table"
   ]
  },
  {
   "cell_type": "code",
   "execution_count": 70,
   "id": "7beff24f",
   "metadata": {},
   "outputs": [
    {
     "data": {
      "text/html": [
       "<div>\n",
       "<style scoped>\n",
       "    .dataframe tbody tr th:only-of-type {\n",
       "        vertical-align: middle;\n",
       "    }\n",
       "\n",
       "    .dataframe tbody tr th {\n",
       "        vertical-align: top;\n",
       "    }\n",
       "\n",
       "    .dataframe thead th {\n",
       "        text-align: right;\n",
       "    }\n",
       "</style>\n",
       "<table border=\"1\" class=\"dataframe\">\n",
       "  <thead>\n",
       "    <tr style=\"text-align: right;\">\n",
       "      <th></th>\n",
       "      <th>Email</th>\n",
       "      <th>Address</th>\n",
       "      <th>Avatar</th>\n",
       "      <th>Avg. Session Length</th>\n",
       "      <th>Time on App</th>\n",
       "      <th>Time on Website</th>\n",
       "      <th>Length of Membership</th>\n",
       "      <th>Yearly Amount Spent</th>\n",
       "    </tr>\n",
       "  </thead>\n",
       "  <tbody>\n",
       "    <tr>\n",
       "      <th>0</th>\n",
       "      <td>mstephenson@fernandez.com</td>\n",
       "      <td>835 Frank Tunnel\\nWrightmouth, MI 82180-9605</td>\n",
       "      <td>Violet</td>\n",
       "      <td>34.497268</td>\n",
       "      <td>12.655651</td>\n",
       "      <td>39.577668</td>\n",
       "      <td>4.082621</td>\n",
       "      <td>587.951054</td>\n",
       "    </tr>\n",
       "    <tr>\n",
       "      <th>1</th>\n",
       "      <td>hduke@hotmail.com</td>\n",
       "      <td>4547 Archer Common\\nDiazchester, CA 06566-8576</td>\n",
       "      <td>DarkGreen</td>\n",
       "      <td>31.926272</td>\n",
       "      <td>11.109461</td>\n",
       "      <td>37.268959</td>\n",
       "      <td>2.664034</td>\n",
       "      <td>392.204933</td>\n",
       "    </tr>\n",
       "    <tr>\n",
       "      <th>2</th>\n",
       "      <td>pallen@yahoo.com</td>\n",
       "      <td>24645 Valerie Unions Suite 582\\nCobbborough, D...</td>\n",
       "      <td>Bisque</td>\n",
       "      <td>33.000915</td>\n",
       "      <td>11.330278</td>\n",
       "      <td>37.110597</td>\n",
       "      <td>4.104543</td>\n",
       "      <td>487.547505</td>\n",
       "    </tr>\n",
       "    <tr>\n",
       "      <th>3</th>\n",
       "      <td>riverarebecca@gmail.com</td>\n",
       "      <td>1414 David Throughway\\nPort Jason, OH 22070-1220</td>\n",
       "      <td>SaddleBrown</td>\n",
       "      <td>34.305557</td>\n",
       "      <td>13.717514</td>\n",
       "      <td>36.721283</td>\n",
       "      <td>3.120179</td>\n",
       "      <td>581.852344</td>\n",
       "    </tr>\n",
       "    <tr>\n",
       "      <th>4</th>\n",
       "      <td>mstephens@davidson-herman.com</td>\n",
       "      <td>14023 Rodriguez Passage\\nPort Jacobville, PR 3...</td>\n",
       "      <td>MediumAquaMarine</td>\n",
       "      <td>33.330673</td>\n",
       "      <td>12.795189</td>\n",
       "      <td>37.536653</td>\n",
       "      <td>4.446308</td>\n",
       "      <td>599.406092</td>\n",
       "    </tr>\n",
       "  </tbody>\n",
       "</table>\n",
       "</div>"
      ],
      "text/plain": [
       "                           Email  \\\n",
       "0      mstephenson@fernandez.com   \n",
       "1              hduke@hotmail.com   \n",
       "2               pallen@yahoo.com   \n",
       "3        riverarebecca@gmail.com   \n",
       "4  mstephens@davidson-herman.com   \n",
       "\n",
       "                                             Address            Avatar  \\\n",
       "0       835 Frank Tunnel\\nWrightmouth, MI 82180-9605            Violet   \n",
       "1     4547 Archer Common\\nDiazchester, CA 06566-8576         DarkGreen   \n",
       "2  24645 Valerie Unions Suite 582\\nCobbborough, D...            Bisque   \n",
       "3   1414 David Throughway\\nPort Jason, OH 22070-1220       SaddleBrown   \n",
       "4  14023 Rodriguez Passage\\nPort Jacobville, PR 3...  MediumAquaMarine   \n",
       "\n",
       "   Avg. Session Length  Time on App  Time on Website  Length of Membership  \\\n",
       "0            34.497268    12.655651        39.577668              4.082621   \n",
       "1            31.926272    11.109461        37.268959              2.664034   \n",
       "2            33.000915    11.330278        37.110597              4.104543   \n",
       "3            34.305557    13.717514        36.721283              3.120179   \n",
       "4            33.330673    12.795189        37.536653              4.446308   \n",
       "\n",
       "   Yearly Amount Spent  \n",
       "0           587.951054  \n",
       "1           392.204933  \n",
       "2           487.547505  \n",
       "3           581.852344  \n",
       "4           599.406092  "
      ]
     },
     "execution_count": 70,
     "metadata": {},
     "output_type": "execute_result"
    }
   ],
   "source": [
    "customers = pd.read_csv(\"~/Downloads/EcommerceCustomers\")\n",
    "customers.head()"
   ]
  },
  {
   "cell_type": "code",
   "execution_count": 71,
   "id": "61ad76a4",
   "metadata": {},
   "outputs": [
    {
     "name": "stdout",
     "output_type": "stream",
     "text": [
      "CPU times: user 245 ms, sys: 31.6 ms, total: 276 ms\n",
      "Wall time: 4.74 s\n"
     ]
    }
   ],
   "source": [
    "%%time\n",
    "snowdf = session.createDataFrame(customers)"
   ]
  },
  {
   "cell_type": "code",
   "execution_count": 72,
   "id": "ba630389",
   "metadata": {},
   "outputs": [
    {
     "name": "stdout",
     "output_type": "stream",
     "text": [
      "-----------------------------------------------------------------------------------------------------------------------------------------------------------------------------------------\n",
      "|\"Email\"                    |\"Address\"                   |\"Avatar\"   |\"Avg. Session Length\"  |\"Time on App\"       |\"Time on Website\"   |\"Length of Membership\"  |\"Yearly Amount Spent\"  |\n",
      "-----------------------------------------------------------------------------------------------------------------------------------------------------------------------------------------\n",
      "|mstephenson@fernandez.com  |835 Frank Tunnel            |Violet     |34.49726772511229      |12.655651149166752  |39.57766801952616   |4.082620632952961       |587.9510539684005      |\n",
      "|                           |Wrightmouth, MI 82180-9605  |           |                       |                    |                    |                        |                       |\n",
      "|hduke@hotmail.com          |4547 Archer Common          |DarkGreen  |31.92627202636016      |11.109460728682564  |37.268958868297744  |2.66403418213262        |392.2049334443264      |\n",
      "|                           |Diazchester, CA 06566-8576  |           |                       |                    |                    |                        |                       |\n",
      "-----------------------------------------------------------------------------------------------------------------------------------------------------------------------------------------\n",
      "\n"
     ]
    }
   ],
   "source": [
    "snowdf.show(2)"
   ]
  },
  {
   "cell_type": "code",
   "execution_count": 73,
   "id": "3a149d64",
   "metadata": {},
   "outputs": [
    {
     "name": "stdout",
     "output_type": "stream",
     "text": [
      "CPU times: user 4.78 ms, sys: 1.75 ms, total: 6.53 ms\n",
      "Wall time: 849 ms\n"
     ]
    }
   ],
   "source": [
    "%%time\n",
    "snowdf.write.mode(\"overwrite\").saveAsTable(\"customers_new\") #Loading into a Snowflake table"
   ]
  },
  {
   "cell_type": "code",
   "execution_count": 74,
   "id": "c3f7fea1",
   "metadata": {},
   "outputs": [
    {
     "name": "stdout",
     "output_type": "stream",
     "text": [
      "INFO: There is a total of Email                   500\n",
      "Address                 500\n",
      "Avatar                  500\n",
      "Avg. Session Length     500\n",
      "Time on App             500\n",
      "Time on Website         500\n",
      "Length of Membership    500\n",
      "Yearly Amount Spent     500\n",
      "dtype: int64 records \n"
     ]
    }
   ],
   "source": [
    "\n",
    "custdf = session.table('CUSTOMERS_NEW').toPandas() # loading to a Pandas DF from our table in Snowflake\n",
    "\n",
    "print(f\"INFO: There is a total of {custdf.count()} records \")"
   ]
  },
  {
   "cell_type": "code",
   "execution_count": 75,
   "id": "3c0c19c9",
   "metadata": {},
   "outputs": [],
   "source": [
    "X = custdf[['Avg. Session Length', 'Time on App',\n",
    "       'Time on Website', 'Length of Membership']]\n",
    "Y = custdf['Yearly Amount Spent']"
   ]
  },
  {
   "cell_type": "markdown",
   "id": "90dbcfa4",
   "metadata": {},
   "source": [
    "## Splitting data into test and training data sets"
   ]
  },
  {
   "cell_type": "markdown",
   "id": "152de840",
   "metadata": {},
   "source": [
    "In this example I am going model on a training data set and test against the entire dataset."
   ]
  },
  {
   "cell_type": "code",
   "execution_count": 76,
   "id": "c631caba",
   "metadata": {},
   "outputs": [],
   "source": [
    "from sklearn.model_selection import train_test_split"
   ]
  },
  {
   "cell_type": "code",
   "execution_count": 77,
   "id": "5645b077",
   "metadata": {},
   "outputs": [],
   "source": [
    "X_train, X_test, y_train, y_test = train_test_split(X, Y, test_size=0.3, random_state=101)"
   ]
  },
  {
   "cell_type": "markdown",
   "id": "63ed02bd",
   "metadata": {},
   "source": [
    "## Using Linear Regression model to predict Yearly Spend based on atrributes like Time Spent on App, Time Spent of Website etc."
   ]
  },
  {
   "cell_type": "code",
   "execution_count": 78,
   "id": "4f08591f",
   "metadata": {},
   "outputs": [],
   "source": [
    "from sklearn.linear_model import LinearRegression\n",
    "lm = LinearRegression()"
   ]
  },
  {
   "cell_type": "code",
   "execution_count": 79,
   "id": "e2561126",
   "metadata": {},
   "outputs": [
    {
     "data": {
      "text/plain": [
       "LinearRegression()"
      ]
     },
     "execution_count": 79,
     "metadata": {},
     "output_type": "execute_result"
    }
   ],
   "source": [
    "lm.fit(X_train,y_train)"
   ]
  },
  {
   "cell_type": "code",
   "execution_count": 80,
   "id": "dad0357a",
   "metadata": {},
   "outputs": [
    {
     "data": {
      "text/html": [
       "<div>\n",
       "<style scoped>\n",
       "    .dataframe tbody tr th:only-of-type {\n",
       "        vertical-align: middle;\n",
       "    }\n",
       "\n",
       "    .dataframe tbody tr th {\n",
       "        vertical-align: top;\n",
       "    }\n",
       "\n",
       "    .dataframe thead th {\n",
       "        text-align: right;\n",
       "    }\n",
       "</style>\n",
       "<table border=\"1\" class=\"dataframe\">\n",
       "  <thead>\n",
       "    <tr style=\"text-align: right;\">\n",
       "      <th></th>\n",
       "      <th>Coefficient</th>\n",
       "    </tr>\n",
       "  </thead>\n",
       "  <tbody>\n",
       "    <tr>\n",
       "      <th>Avg. Session Length</th>\n",
       "      <td>25.981550</td>\n",
       "    </tr>\n",
       "    <tr>\n",
       "      <th>Time on App</th>\n",
       "      <td>38.590159</td>\n",
       "    </tr>\n",
       "    <tr>\n",
       "      <th>Time on Website</th>\n",
       "      <td>0.190405</td>\n",
       "    </tr>\n",
       "    <tr>\n",
       "      <th>Length of Membership</th>\n",
       "      <td>61.279097</td>\n",
       "    </tr>\n",
       "  </tbody>\n",
       "</table>\n",
       "</div>"
      ],
      "text/plain": [
       "                      Coefficient\n",
       "Avg. Session Length     25.981550\n",
       "Time on App             38.590159\n",
       "Time on Website          0.190405\n",
       "Length of Membership    61.279097"
      ]
     },
     "execution_count": 80,
     "metadata": {},
     "output_type": "execute_result"
    }
   ],
   "source": [
    "coeff_df = pd.DataFrame(lm.coef_,X.columns,columns=['Coefficient'])\n",
    "coeff_df"
   ]
  },
  {
   "cell_type": "markdown",
   "id": "583d3de8",
   "metadata": {},
   "source": [
    "## Creating a User Defined Function within Snowflake to do the scoring there"
   ]
  },
  {
   "cell_type": "code",
   "execution_count": 81,
   "id": "25025810",
   "metadata": {},
   "outputs": [],
   "source": [
    "def predict_pandas_udf(df: pd.DataFrame) -> pd.Series:        \n",
    "     \n",
    "    return pd.Series(lm.predict(df))  \n",
    "\n",
    "linear_model_vec = pandas_udf(predict_pandas_udf,\n",
    "                                    \n",
    "                                    return_type=FloatType(),\n",
    "                                    input_types=[FloatType(),FloatType(),FloatType(),FloatType()], session=session,\n",
    "                                    packages = (\"pandas\",\"scikit-learn\"), max_batch_size=200)"
   ]
  },
  {
   "cell_type": "markdown",
   "id": "57690327",
   "metadata": {},
   "source": [
    "## Calling the UDF to do the scoring"
   ]
  },
  {
   "cell_type": "code",
   "execution_count": 82,
   "id": "6132216f",
   "metadata": {},
   "outputs": [],
   "source": [
    "output = session.table('CUSTOMERS_NEW').select(*list(X.columns),\n",
    "                    linear_model_vec(list(X.columns)).alias('PREDICTED_SPEND'), \n",
    "                    (F.col('Yearly Amount Spent')).alias('ACTUAL_SPEND')\n",
    "                    )\n"
   ]
  },
  {
   "cell_type": "code",
   "execution_count": 83,
   "id": "99332d94",
   "metadata": {},
   "outputs": [],
   "source": [
    "output.write.mode(\"overwrite\").saveAsTable(\"PREDICTED_CUSTOMER_SPEND\") ###used later in Streamlit app"
   ]
  },
  {
   "cell_type": "code",
   "execution_count": 84,
   "id": "493427cc",
   "metadata": {},
   "outputs": [],
   "source": [
    "output=output.toPandas()"
   ]
  },
  {
   "cell_type": "markdown",
   "id": "914c6f63",
   "metadata": {},
   "source": [
    "## Plotting and comparing the predicted values with actual spend values"
   ]
  },
  {
   "cell_type": "code",
   "execution_count": 85,
   "id": "81829d64",
   "metadata": {},
   "outputs": [
    {
     "data": {
      "text/plain": [
       "<matplotlib.collections.PathCollection at 0x7f7c8bd1a4c0>"
      ]
     },
     "execution_count": 85,
     "metadata": {},
     "output_type": "execute_result"
    },
    {
     "data": {
      "image/png": "[encoded data removed]",
      "text/plain": [
       "<Figure size 432x288 with 1 Axes>"
      ]
     },
     "metadata": {
      "needs_background": "light"
     },
     "output_type": "display_data"
    }
   ],
   "source": [
    "plt.scatter(output[\"ACTUAL_SPEND\"], output[\"PREDICTED_SPEND\"])"
   ]
  },
  {
   "cell_type": "code",
   "execution_count": 86,
   "id": "6b02891a",
   "metadata": {},
   "outputs": [],
   "source": [
    "from sklearn import metrics"
   ]
  },
  {
   "cell_type": "code",
   "execution_count": 87,
   "id": "2c2d99ea",
   "metadata": {},
   "outputs": [
    {
     "name": "stdout",
     "output_type": "stream",
     "text": [
      "MAE: 7.895387697169229\n",
      "MSE: 98.73987752129229\n",
      "RMSE: 9.936794126945184\n"
     ]
    }
   ],
   "source": [
    "print('MAE:', metrics.mean_absolute_error(output[\"ACTUAL_SPEND\"], output[\"PREDICTED_SPEND\"]))\n",
    "print('MSE:', metrics.mean_squared_error(output[\"ACTUAL_SPEND\"], output[\"PREDICTED_SPEND\"]))\n",
    "print('RMSE:', np.sqrt(metrics.mean_squared_error(output[\"ACTUAL_SPEND\"], output[\"PREDICTED_SPEND\"])))"
   ]
  },
  {
   "cell_type": "code",
   "execution_count": 88,
   "id": "c996c153",
   "metadata": {},
   "outputs": [
    {
     "data": {
      "image/png": "[encoded data removed]",
      "text/plain": [
       "<Figure size 360x360 with 1 Axes>"
      ]
     },
     "metadata": {
      "needs_background": "light"
     },
     "output_type": "display_data"
    }
   ],
   "source": [
    "sns.displot((output[\"ACTUAL_SPEND\"]- output[\"PREDICTED_SPEND\"]),bins=50, kde=True);"
   ]
  },
  {
   "cell_type": "code",
   "execution_count": 89,
   "id": "b1909564",
   "metadata": {},
   "outputs": [
    {
     "data": {
      "text/html": [
       "<div>\n",
       "<style scoped>\n",
       "    .dataframe tbody tr th:only-of-type {\n",
       "        vertical-align: middle;\n",
       "    }\n",
       "\n",
       "    .dataframe tbody tr th {\n",
       "        vertical-align: top;\n",
       "    }\n",
       "\n",
       "    .dataframe thead th {\n",
       "        text-align: right;\n",
       "    }\n",
       "</style>\n",
       "<table border=\"1\" class=\"dataframe\">\n",
       "  <thead>\n",
       "    <tr style=\"text-align: right;\">\n",
       "      <th></th>\n",
       "      <th>Coefficient</th>\n",
       "    </tr>\n",
       "  </thead>\n",
       "  <tbody>\n",
       "    <tr>\n",
       "      <th>Avg. Session Length</th>\n",
       "      <td>25.981550</td>\n",
       "    </tr>\n",
       "    <tr>\n",
       "      <th>Time on App</th>\n",
       "      <td>38.590159</td>\n",
       "    </tr>\n",
       "    <tr>\n",
       "      <th>Time on Website</th>\n",
       "      <td>0.190405</td>\n",
       "    </tr>\n",
       "    <tr>\n",
       "      <th>Length of Membership</th>\n",
       "      <td>61.279097</td>\n",
       "    </tr>\n",
       "  </tbody>\n",
       "</table>\n",
       "</div>"
      ],
      "text/plain": [
       "                      Coefficient\n",
       "Avg. Session Length     25.981550\n",
       "Time on App             38.590159\n",
       "Time on Website          0.190405\n",
       "Length of Membership    61.279097"
      ]
     },
     "execution_count": 89,
     "metadata": {},
     "output_type": "execute_result"
    }
   ],
   "source": [
    "coeff_df = pd.DataFrame(lm.coef_,X.columns,columns=['Coefficient'])\n",
    "coeff_df"
   ]
  },
  {
   "cell_type": "markdown",
   "id": "a069e936",
   "metadata": {},
   "source": [
    "### Conclusion\n",
    "Time spent on the app and Length of Membership are most important factors driving customer spend. The retailer should focus its efforts on increasing stickiness to its app and enhance its loyalty programs."
   ]
  }
 ],
 "metadata": {
  "kernelspec": {
   "display_name": "pysnowpark",
   "language": "python",
   "name": "pysnowpark"
  },
  "language_info": {
   "codemirror_mode": {
    "name": "ipython",
    "version": 3
   },
   "file_extension": ".py",
   "mimetype": "text/x-python",
   "name": "python",
   "nbconvert_exporter": "python",
   "pygments_lexer": "ipython3",
   "version": "3.8.12"
  }
 },
 "nbformat": 4,
 "nbformat_minor": 5
}
