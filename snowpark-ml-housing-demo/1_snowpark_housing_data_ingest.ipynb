{
 "cells": [
  {
   "cell_type": "markdown",
   "id": "cd188e46",
   "metadata": {},
   "source": [
    "# NOTEBOOK 1: INGEST HOUSING DATA INTO SNOWFLAKE"
   ]
  },
  {
   "cell_type": "markdown",
   "id": "62451bca",
   "metadata": {},
   "source": [
    "#### Download the housing dataset"
   ]
  },
  {
   "cell_type": "code",
   "execution_count": null,
   "id": "132cb7aa",
   "metadata": {},
   "outputs": [],
   "source": [
    "import os\n",
    "import tarfile\n",
    "import urllib.request\n",
    "\n",
    "DOWNLOAD_ROOT = \"https://raw.githubusercontent.com/ageron/handson-ml2/master/\"\n",
    "HOUSING_PATH = os.path.join(\"datasets\", \"housing\")\n",
    "HOUSING_URL = DOWNLOAD_ROOT + \"datasets/housing/housing.tgz\"\n",
    "\n",
    "def fetch_housing_data(housing_url=HOUSING_URL, housing_path=HOUSING_PATH):\n",
    "    if not os.path.isdir(housing_path):\n",
    "        os.makedirs(housing_path)\n",
    "    tgz_path = os.path.join(housing_path, \"housing.tgz\")\n",
    "    urllib.request.urlretrieve(housing_url, tgz_path)\n",
    "    housing_tgz = tarfile.open(tgz_path)\n",
    "    housing_tgz.extractall(path=housing_path)\n",
    "    housing_tgz.close()\n",
    "\n",
    "fetch_housing_data()"
   ]
  },
  {
   "cell_type": "code",
   "execution_count": null,
   "id": "461d1e78",
   "metadata": {},
   "outputs": [],
   "source": [
    "# Snowpark\n",
    "from snowflake.snowpark.session import Session\n",
    "from snowflake.snowpark import functions as F\n",
    "from snowflake.snowpark.functions import udf\n",
    "from snowflake.snowpark.types import *\n",
    "\n",
    "import pandas as pd \n",
    "\n",
    "def load_housing_data ( housing_path = HOUSING_PATH ): \n",
    "    csv_path = os.path.join ( housing_path , \"housing.csv\" ) \n",
    "    return pd.read_csv ( csv_path ) \n",
    "\n",
    "housing = load_housing_data()\n",
    "housing.head()"
   ]
  },
  {
   "cell_type": "code",
   "execution_count": null,
   "id": "d4b15e07",
   "metadata": {},
   "outputs": [],
   "source": [
    "import json\n",
    "\n",
    "with open('creds.json') as f:\n",
    "    data = json.load(f)\n",
    "    USERNAME = data['username']\n",
    "    PASSWORD = data['password']\n",
    "    SF_ACCOUNT = data['sf_account']\n",
    "    SF_WH = data['sf_wh']\n",
    "    SF_DB = data['sf_db']\n",
    "    SF_SCHEMA = data['sf_schema']\n",
    "\n",
    "CONNECTION_PARAMETERS = {\n",
    "   \"account\": SF_ACCOUNT,\n",
    "   \"user\": USERNAME,\n",
    "   \"password\": PASSWORD,\n",
    "   \"database\": SF_DB,\n",
    "   \"schema\": SF_SCHEMA,\n",
    "   \"warehouse\": SF_WH\n",
    "}\n",
    "session = Session.builder.configs(CONNECTION_PARAMETERS).create()"
   ]
  },
  {
   "cell_type": "markdown",
   "id": "90ba8040",
   "metadata": {},
   "source": [
    "#### Create the HOUSING_DATA table"
   ]
  },
  {
   "cell_type": "code",
   "execution_count": null,
   "id": "fcb54c2a",
   "metadata": {},
   "outputs": [],
   "source": [
    "%%time\n",
    "\n",
    "query = \"create or replace table HOUSING_DATA (LONGITUDE float,LATITUDE float,HOUSING_MEDIAN_AGE float,\" +\\\n",
    "        \"TOTAL_ROOMS float,TOTAL_BEDROOMS float,POPULATION float,HOUSEHOLDS float,\" +\\\n",
    "        \"MEDIAN_INCOME float,MEDIAN_HOUSE_VALUE float,OCEAN_PROXIMITY varchar)\"\n",
    "        \n",
    "session.sql(query).collect()"
   ]
  },
  {
   "cell_type": "code",
   "execution_count": null,
   "id": "b0aae821",
   "metadata": {},
   "outputs": [],
   "source": [
    "# need to convert column names to upper case before writing into Snowflake\n",
    "housing.columns = [x.upper() for x in housing.columns]\n",
    "housing.head()"
   ]
  },
  {
   "cell_type": "markdown",
   "id": "286eb867",
   "metadata": {},
   "source": [
    "Write the data into a Snowflake table named `HOUSING_DATA`"
   ]
  },
  {
   "cell_type": "code",
   "execution_count": null,
   "id": "d974b7ac",
   "metadata": {},
   "outputs": [],
   "source": [
    "snowpark_df = session.write_pandas(housing, \"HOUSING_DATA\")"
   ]
  },
  {
   "cell_type": "code",
   "execution_count": null,
   "id": "0426367e",
   "metadata": {},
   "outputs": [],
   "source": [
    "snowpark_df.toPandas().head()"
   ]
  }
 ],
 "metadata": {
  "interpreter": {
   "hash": "7967a0df53185fdb66d4f10f718a455ec94087b64649db4564db11ccde5f15b6"
  },
  "kernelspec": {
   "display_name": "Python 3.8.13 ('snowpark_ml_test')",
   "language": "python",
   "name": "python3"
  },
  "language_info": {
   "codemirror_mode": {
    "name": "ipython",
    "version": 3
   },
   "file_extension": ".py",
   "mimetype": "text/x-python",
   "name": "python",
   "nbconvert_exporter": "python",
   "pygments_lexer": "ipython3",
   "version": "3.8.13"
  }
 },
 "nbformat": 4,
 "nbformat_minor": 5
}
